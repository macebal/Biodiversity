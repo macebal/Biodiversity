{
 "cells": [
  {
   "cell_type": "markdown",
   "metadata": {},
   "source": [
    "# Analysis of Biodiversity in US National Parks\n",
    "With data from X parks, an analysis will be made to determine if there are trends in the number of observations, the conservations status, etc."
   ]
  },
  {
   "cell_type": "code",
   "execution_count": 1,
   "metadata": {},
   "outputs": [],
   "source": [
    "import pandas as pd\n",
    "from matplotlib import pyplot as plt\n",
    "import matplotlib.ticker as mtick\n",
    "import seaborn as sns\n",
    "import numpy as np"
   ]
  },
  {
   "cell_type": "markdown",
   "metadata": {},
   "source": [
    "## Inspection of the data\n",
    "The csv file `species_info.csv` contains data about different species and their conservation status. The columns in it are as follows:\n",
    "\n",
    "* `category`: The category of the animal (Mammal, Bird, Reptile, etc.).\n",
    "* `scientific_name`: The scientific name.\n",
    "* `common_names`: The common name.\n",
    "* `conservation_status`: The conservation status ('Species of Concern', 'Endangered', 'Threatened', 'In Recovery', or NaN)"
   ]
  },
  {
   "cell_type": "code",
   "execution_count": 2,
   "metadata": {},
   "outputs": [
    {
     "data": {
      "text/html": [
       "<div>\n",
       "<style scoped>\n",
       "    .dataframe tbody tr th:only-of-type {\n",
       "        vertical-align: middle;\n",
       "    }\n",
       "\n",
       "    .dataframe tbody tr th {\n",
       "        vertical-align: top;\n",
       "    }\n",
       "\n",
       "    .dataframe thead th {\n",
       "        text-align: right;\n",
       "    }\n",
       "</style>\n",
       "<table border=\"1\" class=\"dataframe\">\n",
       "  <thead>\n",
       "    <tr style=\"text-align: right;\">\n",
       "      <th></th>\n",
       "      <th>category</th>\n",
       "      <th>scientific_name</th>\n",
       "      <th>common_names</th>\n",
       "      <th>conservation_status</th>\n",
       "    </tr>\n",
       "  </thead>\n",
       "  <tbody>\n",
       "    <tr>\n",
       "      <th>0</th>\n",
       "      <td>Mammal</td>\n",
       "      <td>Clethrionomys gapperi gapperi</td>\n",
       "      <td>Gapper's Red-Backed Vole</td>\n",
       "      <td>NaN</td>\n",
       "    </tr>\n",
       "    <tr>\n",
       "      <th>1</th>\n",
       "      <td>Mammal</td>\n",
       "      <td>Bos bison</td>\n",
       "      <td>American Bison, Bison</td>\n",
       "      <td>NaN</td>\n",
       "    </tr>\n",
       "    <tr>\n",
       "      <th>2</th>\n",
       "      <td>Mammal</td>\n",
       "      <td>Bos taurus</td>\n",
       "      <td>Aurochs, Aurochs, Domestic Cattle (Feral), Dom...</td>\n",
       "      <td>NaN</td>\n",
       "    </tr>\n",
       "    <tr>\n",
       "      <th>3</th>\n",
       "      <td>Mammal</td>\n",
       "      <td>Ovis aries</td>\n",
       "      <td>Domestic Sheep, Mouflon, Red Sheep, Sheep (Feral)</td>\n",
       "      <td>NaN</td>\n",
       "    </tr>\n",
       "    <tr>\n",
       "      <th>4</th>\n",
       "      <td>Mammal</td>\n",
       "      <td>Cervus elaphus</td>\n",
       "      <td>Wapiti Or Elk</td>\n",
       "      <td>NaN</td>\n",
       "    </tr>\n",
       "  </tbody>\n",
       "</table>\n",
       "</div>"
      ],
      "text/plain": [
       "  category                scientific_name  \\\n",
       "0   Mammal  Clethrionomys gapperi gapperi   \n",
       "1   Mammal                      Bos bison   \n",
       "2   Mammal                     Bos taurus   \n",
       "3   Mammal                     Ovis aries   \n",
       "4   Mammal                 Cervus elaphus   \n",
       "\n",
       "                                        common_names conservation_status  \n",
       "0                           Gapper's Red-Backed Vole                 NaN  \n",
       "1                              American Bison, Bison                 NaN  \n",
       "2  Aurochs, Aurochs, Domestic Cattle (Feral), Dom...                 NaN  \n",
       "3  Domestic Sheep, Mouflon, Red Sheep, Sheep (Feral)                 NaN  \n",
       "4                                      Wapiti Or Elk                 NaN  "
      ]
     },
     "execution_count": 2,
     "metadata": {},
     "output_type": "execute_result"
    }
   ],
   "source": [
    "species = pd.read_csv('species_info.csv').drop_duplicates(subset = ['scientific_name'])\n",
    "species.head()"
   ]
  },
  {
   "cell_type": "markdown",
   "metadata": {},
   "source": [
    "The csv file `observations.csv` holds recorded sightings of different species at several national parks for the past 7 days. The columns in it are the following:\n",
    "\n",
    "* `scientific_name`: The scientific name of the individual seen.\n",
    "* `park_name`: The park where it has been spotted.\n",
    "* `observations`: The number of observations."
   ]
  },
  {
   "cell_type": "code",
   "execution_count": 3,
   "metadata": {},
   "outputs": [
    {
     "data": {
      "text/html": [
       "<div>\n",
       "<style scoped>\n",
       "    .dataframe tbody tr th:only-of-type {\n",
       "        vertical-align: middle;\n",
       "    }\n",
       "\n",
       "    .dataframe tbody tr th {\n",
       "        vertical-align: top;\n",
       "    }\n",
       "\n",
       "    .dataframe thead th {\n",
       "        text-align: right;\n",
       "    }\n",
       "</style>\n",
       "<table border=\"1\" class=\"dataframe\">\n",
       "  <thead>\n",
       "    <tr style=\"text-align: right;\">\n",
       "      <th></th>\n",
       "      <th>scientific_name</th>\n",
       "      <th>park_name</th>\n",
       "      <th>observations</th>\n",
       "    </tr>\n",
       "  </thead>\n",
       "  <tbody>\n",
       "    <tr>\n",
       "      <th>0</th>\n",
       "      <td>Vicia benghalensis</td>\n",
       "      <td>Great Smoky Mountains National Park</td>\n",
       "      <td>68</td>\n",
       "    </tr>\n",
       "    <tr>\n",
       "      <th>1</th>\n",
       "      <td>Neovison vison</td>\n",
       "      <td>Great Smoky Mountains National Park</td>\n",
       "      <td>77</td>\n",
       "    </tr>\n",
       "    <tr>\n",
       "      <th>2</th>\n",
       "      <td>Prunus subcordata</td>\n",
       "      <td>Yosemite National Park</td>\n",
       "      <td>138</td>\n",
       "    </tr>\n",
       "    <tr>\n",
       "      <th>3</th>\n",
       "      <td>Abutilon theophrasti</td>\n",
       "      <td>Bryce National Park</td>\n",
       "      <td>84</td>\n",
       "    </tr>\n",
       "    <tr>\n",
       "      <th>4</th>\n",
       "      <td>Githopsis specularioides</td>\n",
       "      <td>Great Smoky Mountains National Park</td>\n",
       "      <td>85</td>\n",
       "    </tr>\n",
       "  </tbody>\n",
       "</table>\n",
       "</div>"
      ],
      "text/plain": [
       "            scientific_name                            park_name  observations\n",
       "0        Vicia benghalensis  Great Smoky Mountains National Park            68\n",
       "1            Neovison vison  Great Smoky Mountains National Park            77\n",
       "2         Prunus subcordata               Yosemite National Park           138\n",
       "3      Abutilon theophrasti                  Bryce National Park            84\n",
       "4  Githopsis specularioides  Great Smoky Mountains National Park            85"
      ]
     },
     "execution_count": 3,
     "metadata": {},
     "output_type": "execute_result"
    }
   ],
   "source": [
    "observations = pd.read_csv('observations.csv').drop_duplicates()\n",
    "observations.head()"
   ]
  },
  {
   "cell_type": "markdown",
   "metadata": {},
   "source": [
    "## Analysis"
   ]
  },
  {
   "cell_type": "markdown",
   "metadata": {},
   "source": [
    "In the following section, the following questions will be adressed:\n",
    "\n",
    "* What is the proportion of endangered species for each category?\n",
    "* Are different categories of animals more likely than others to be endangered?\n",
    "* Are some categories of animals morel likely to be observed in parks than others?\n",
    "* The observations of flora and fauna varies significantly across different parks?\n",
    "* Are endangered species spotted in parks differently? What about the other conservation statuses?"
   ]
  },
  {
   "cell_type": "markdown",
   "metadata": {},
   "source": [
    "### What is the proportion of endangered species for each category?\n",
    "\n",
    "We will analyze the proportion of endangered species for each category."
   ]
  },
  {
   "cell_type": "code",
   "execution_count": 4,
   "metadata": {},
   "outputs": [
    {
     "data": {
      "image/png": "[encoded data removed]",
      "text/plain": [
       "<Figure size 720x576 with 1 Axes>"
      ]
     },
     "metadata": {
      "needs_background": "light"
     },
     "output_type": "display_data"
    }
   ],
   "source": [
    "category_totals = species[species.conservation_status == 'Endangered'].groupby('category').conservation_status.count().reset_index()\n",
    "category_totals['percent'] = 100 * category_totals.conservation_status / len(species)\n",
    "\n",
    "category_totals.sort_values(by=['percent'], ascending = False, inplace = True)\n",
    "\n",
    "plt.figure(figsize=(10,8))\n",
    "sns.set_palette('Set3')\n",
    "ax = sns.barplot(data = category_totals, x = 'category', y = 'percent')\n",
    "ax.yaxis.set_major_formatter(mtick.PercentFormatter())\n",
    "plt.title('Proportion of endangeredd species for e ach category')\n",
    "plt.xlabel('Category')\n",
    "plt.ylabel('Amount of Endangered Species')\n",
    "plt.show()"
   ]
  },
  {
   "cell_type": "markdown",
   "metadata": {},
   "source": [
    "From the previous graph we can see that mammals have, in proportion, more endangered species followed by birds and fishes."
   ]
  },
  {
   "cell_type": "markdown",
   "metadata": {},
   "source": [
    "### Are different categories of animals more likely than others to be endangered?\n",
    "\n",
    "In the following plot we can see all animal categories separated by they conservation status"
   ]
  },
  {
   "cell_type": "code",
   "execution_count": 5,
   "metadata": {},
   "outputs": [
    {
     "data": {
      "image/png": "[encoded data removed]",
      "text/plain": [
       "<Figure size 1008x252 with 4 Axes>"
      ]
     },
     "metadata": {
      "needs_background": "light"
     },
     "output_type": "display_data"
    }
   ],
   "source": [
    "g = sns.catplot(x=\"category\", col=\"conservation_status\", col_wrap=4, data = species, kind=\"count\", height=3.5, aspect=1.0, sharey = None)\n",
    "g.set_xticklabels(rotation=90)\n",
    "plt.show()"
   ]
  },
  {
   "cell_type": "markdown",
   "metadata": {},
   "source": [
    "With our data, we can conclude that mammals have the greatest amount of species endangered, followed by birds and fish.\n",
    "\n",
    "However, fishes have the most threatened species followed closely by mammals, amphibians and vascular plants.\n",
    "\n",
    "Birds have nearly 70 species of concern and 3 in recovery."
   ]
  },
  {
   "cell_type": "markdown",
   "metadata": {},
   "source": [
    "### Are some categories of animals morel likely to be observed in parks than others?\n",
    "\n",
    "In the following plot we can see the distribution of observations for each category across all parks."
   ]
  },
  {
   "cell_type": "code",
   "execution_count": 6,
   "metadata": {},
   "outputs": [],
   "source": [
    "observations_with_cat = pd.merge(observations,species,on='scientific_name',how='left')"
   ]
  },
  {
   "cell_type": "code",
   "execution_count": 7,
   "metadata": {},
   "outputs": [
    {
     "data": {
      "image/png": "[encoded data removed]",
      "text/plain": [
       "<Figure size 720x432 with 1 Axes>"
      ]
     },
     "metadata": {
      "needs_background": "light"
     },
     "output_type": "display_data"
    }
   ],
   "source": [
    "plt.figure(figsize=(10,6))\n",
    "sns.boxplot(data = observations_with_cat, x = 'category', y = 'observations')\n",
    "plt.xlabel('Category')\n",
    "plt.ylabel('Number of observations')\n",
    "plt.title('Number of observations across all National Parks studied in the last 7 days')\n",
    "plt.show()"
   ]
  },
  {
   "cell_type": "markdown",
   "metadata": {},
   "source": [
    "To check if there is a statistically significant difference between the categories we will do an ANOVA test with the following hypotesis:\n",
    "\n",
    "* H0: The population means are all equal.\n",
    "* Ha: At least one pair has different population means.\n",
    "\n",
    "The significance level chosen is 0.05."
   ]
  },
  {
   "cell_type": "code",
   "execution_count": 8,
   "metadata": {},
   "outputs": [
    {
     "name": "stdout",
     "output_type": "stream",
     "text": [
      "The p-value for the ANOVA test is: 0.47\n"
     ]
    }
   ],
   "source": [
    "from scipy.stats import f_oneway\n",
    "\n",
    "vascular_plant = observations_with_cat[observations_with_cat['category'] == 'Vascular Plant'].observations\n",
    "mammal = observations_with_cat[observations_with_cat['category'] == 'Vascular Plant'].observations\n",
    "bird = observations_with_cat[observations_with_cat['category'] == 'Bird'].observations\n",
    "nonvascular_plant = observations_with_cat[observations_with_cat['category'] == 'Nonvascular Plant'].observations\n",
    "amphibian = observations_with_cat[observations_with_cat['category'] == 'Amphibian'].observations\n",
    "reptile = observations_with_cat[observations_with_cat['category'] == 'Reptile'].observations\n",
    "fish = observations_with_cat[observations_with_cat['category'] == 'Fish'].observations\n",
    "\n",
    "F, pval = f_oneway(vascular_plant, mammal, bird, nonvascular_plant, amphibian, reptile, fish)\n",
    "\n",
    "print('The p-value for the ANOVA test is: {:.2f}'.format(pval))"
   ]
  },
  {
   "cell_type": "markdown",
   "metadata": {},
   "source": [
    "Since the p-value is greater than the significance level, we can conclude that there are not significant differences in the means of the number of observations between different categories of flora and fauna."
   ]
  },
  {
   "cell_type": "markdown",
   "metadata": {},
   "source": [
    "### The observations of flora and fauna varies significantly across different parks?\n",
    "\n",
    "In the following plot we can see the distribution of all observations for each park."
   ]
  },
  {
   "cell_type": "code",
   "execution_count": 9,
   "metadata": {},
   "outputs": [
    {
     "data": {
      "image/png": "[encoded data removed]",
      "text/plain": [
       "<Figure size 864x432 with 1 Axes>"
      ]
     },
     "metadata": {
      "needs_background": "light"
     },
     "output_type": "display_data"
    }
   ],
   "source": [
    "plt.figure(figsize=(12,6))\n",
    "sns.boxplot(data = observations_with_cat, x = 'park_name', y = 'observations')\n",
    "plt.xlabel('Park Name')\n",
    "plt.ylabel('Number of observations')\n",
    "plt.title('Number of observations per park for all categories studied in the last 7 days')\n",
    "plt.show()"
   ]
  },
  {
   "cell_type": "markdown",
   "metadata": {},
   "source": [
    "Now, to see if the differences seen in the previous graph are statistically significant, we will run an ANOVA test with a significance level of 0.05."
   ]
  },
  {
   "cell_type": "code",
   "execution_count": 10,
   "metadata": {},
   "outputs": [
    {
     "name": "stdout",
     "output_type": "stream",
     "text": [
      "The p-value for the ANOVA test is: 0.00\n"
     ]
    }
   ],
   "source": [
    "great_smoky_mntns = observations_with_cat[observations_with_cat['park_name'] == 'Great Smoky Mountains National Park'].observations\n",
    "yosemite = observations_with_cat[observations_with_cat['park_name'] == 'Yosemite National Park'].observations\n",
    "bryce = observations_with_cat[observations_with_cat['park_name'] == 'Bryce National Park'].observations\n",
    "yellowstone = observations_with_cat[observations_with_cat['park_name'] == 'Yellowstone National Park'].observations\n",
    "\n",
    "F, pval = f_oneway(great_smoky_mntns, yosemite, bryce, yellowstone)\n",
    "\n",
    "print('The p-value for the ANOVA test is: {:.2f}'.format(pval))"
   ]
  },
  {
   "cell_type": "markdown",
   "metadata": {},
   "source": [
    "Since the p-value is lower than the significance level, we can conclude that **there are** significant differences in the means of the number of observations between different parks.\n",
    "\n",
    "With a Tukey's Range Test we can determine *which* pairs are significantly different from one another."
   ]
  },
  {
   "cell_type": "code",
   "execution_count": 11,
   "metadata": {},
   "outputs": [
    {
     "name": "stdout",
     "output_type": "stream",
     "text": [
      "                              Multiple Comparison of Means - Tukey HSD, FWER=0.05                               \n",
      "================================================================================================================\n",
      "               group1                              group2               meandiff p-adj   lower    upper   reject\n",
      "----------------------------------------------------------------------------------------------------------------\n",
      "                Bryce National Park Great Smoky Mountains National Park -24.7557 0.001  -25.7747 -23.7366   True\n",
      "                Bryce National Park           Yellowstone National Park 148.9618 0.001  147.9427 149.9808   True\n",
      "                Bryce National Park              Yosemite National Park  49.3271 0.001   48.3081   50.346   True\n",
      "Great Smoky Mountains National Park           Yellowstone National Park 173.7175 0.001  172.6982 174.7367   True\n",
      "Great Smoky Mountains National Park              Yosemite National Park  74.0827 0.001   73.0636  75.1019   True\n",
      "          Yellowstone National Park              Yosemite National Park -99.6347 0.001 -100.6538 -98.6156   True\n",
      "----------------------------------------------------------------------------------------------------------------\n"
     ]
    }
   ],
   "source": [
    "from statsmodels.stats.multicomp import pairwise_tukeyhsd\n",
    "\n",
    "print(pairwise_tukeyhsd(observations_with_cat['observations'],observations_with_cat['park_name']))"
   ]
  },
  {
   "cell_type": "markdown",
   "metadata": {},
   "source": [
    "We can see that for a significance level of 0.05, there are significant differences between the number of observations across **all** parks."
   ]
  },
  {
   "cell_type": "markdown",
   "metadata": {},
   "source": [
    "### Are endangered species spotted in parks differently? What about the other conservation statuses?\n",
    "Similarly as a previous question, we will analyze in depth the observations of different conservation status for each category in each park"
   ]
  },
  {
   "cell_type": "markdown",
   "metadata": {},
   "source": [
    "To analyze if the observed statuses are as expected or if there are more obervations of a certain conservation status than there should be we will run a Pearson $\\chi^2$ Test with the following hypotesis:\n",
    "\n",
    "* H0: The frequency distribution of the events observed in a sample is consistent with a particular theoretical distribution.\n",
    "* Ha: The frequency distribution of the events observed in a sample is not consistent with a particular theoretical distribution.\n",
    "\n",
    "We will use a significance level of 0.05"
   ]
  },
  {
   "cell_type": "code",
   "execution_count": 12,
   "metadata": {},
   "outputs": [
    {
     "name": "stdout",
     "output_type": "stream",
     "text": [
      "The p-value for the chi square test is: 0.23\n"
     ]
    }
   ],
   "source": [
    "from scipy.stats import chi2_contingency\n",
    "cross_table = pd.crosstab(index = observations_with_cat.park_name, columns = observations_with_cat.conservation_status, values = observations_with_cat.observations, aggfunc = np.sum)\n",
    "chi2, pval, dof, exp = chi2_contingency(cross_table)\n",
    "\n",
    "print('The p-value for the chi square test is: {:.2f}'.format(pval))"
   ]
  },
  {
   "cell_type": "markdown",
   "metadata": {},
   "source": [
    "The fact that the p-value is greater than the significance level means that the number of observations of endangered species (and others) are as expected for each  park."
   ]
  },
  {
   "cell_type": "markdown",
   "metadata": {},
   "source": [
    "## Conclusions"
   ]
  },
  {
   "cell_type": "markdown",
   "metadata": {},
   "source": [
    "From the analysis we can report the following conclusions:\n",
    "\n",
    "* Mammals have, in proportion, more endangered species followed by birds and fishes.\n",
    "* Birds have the most *species of concern* than the other categories.\n",
    "* There are no significant differences between the observations of different categories across all parks.\n",
    "* There *are* significant differences between the observations of all categories across different parks. \n",
    "* The observations of different categories are as expected for each park. No park has a disproportionate number of observations of a specific ca"
   ]
  }
 ],
 "metadata": {
  "kernelspec": {
   "display_name": "Python 3",
   "language": "python",
   "name": "python3"
  },
  "language_info": {
   "codemirror_mode": {
    "name": "ipython",
    "version": 3
   },
   "file_extension": ".py",
   "mimetype": "text/x-python",
   "name": "python",
   "nbconvert_exporter": "python",
   "pygments_lexer": "ipython3",
   "version": "3.8.5"
  }
 },
 "nbformat": 4,
 "nbformat_minor": 4
}
